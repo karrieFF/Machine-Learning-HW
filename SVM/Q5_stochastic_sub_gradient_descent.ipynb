{
 "cells": [
  {
   "cell_type": "code",
   "execution_count": 3,
   "metadata": {},
   "outputs": [],
   "source": [
    "import numpy as np"
   ]
  },
  {
   "cell_type": "code",
   "execution_count": 18,
   "metadata": {},
   "outputs": [],
   "source": [
    "matrix = [[0.5, -1, 0.3, 1],\n",
    "          [-1, -2, -2, -1],\n",
    "          [1.5, 0.2, -2.5, 1]]\n",
    "\n",
    "matrix = np.array(matrix)\n",
    "xi = matrix[:, 0:3]\n",
    "yi = matrix[:,3]"
   ]
  },
  {
   "cell_type": "code",
   "execution_count": 45,
   "metadata": {},
   "outputs": [
    {
     "name": "stdout",
     "output_type": "stream",
     "text": [
      "0.0 1 0.01 [ 0.005 -0.01   0.003]\n",
      "-0.009000000000000001 1 0.005 [9.9750e-03 5.0000e-05 1.2985e-02]\n",
      "-0.017489999999999995 1 0.0025 [0.01370006 0.00054987 0.00670254]\n"
     ]
    }
   ],
   "source": [
    "w = np.array([0, 0, 0])\n",
    "learning_rate = [0.01, 0.005, 0.0025]\n",
    "n_sample = 1\n",
    "epochs = 1\n",
    "C = 1\n",
    "\n",
    "for epoch in range(1, epochs + 1):\n",
    "    indices = np.arange(n_sample)\n",
    "    #np.random.shuffle(indices)\n",
    "\n",
    "    for i in range(3):\n",
    "        #print(w)\n",
    "        margin = yi[i]*np.dot(w, xi[i])\n",
    "        \n",
    "        lr = learning_rate[i]\n",
    "\n",
    "        if margin <= 1:\n",
    "            w = w-lr*w +lr*C*n_sample*yi[i]*xi[i]\n",
    "            \n",
    "        else:\n",
    "            w = (1-lr)*w\n",
    "\n",
    "        #print(xi[i])\n",
    "        print(margin, epoch, lr, w)"
   ]
  }
 ],
 "metadata": {
  "kernelspec": {
   "display_name": "Python 3",
   "language": "python",
   "name": "python3"
  },
  "language_info": {
   "codemirror_mode": {
    "name": "ipython",
    "version": 3
   },
   "file_extension": ".py",
   "mimetype": "text/x-python",
   "name": "python",
   "nbconvert_exporter": "python",
   "pygments_lexer": "ipython3",
   "version": "3.8.9"
  }
 },
 "nbformat": 4,
 "nbformat_minor": 2
}
